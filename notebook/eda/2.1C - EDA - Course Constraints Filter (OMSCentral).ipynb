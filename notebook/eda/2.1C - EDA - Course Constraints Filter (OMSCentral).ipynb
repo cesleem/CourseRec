{
 "cells": [
  {
   "cell_type": "markdown",
   "metadata": {},
   "source": [
    "# 2.1C - EDA - Course Constraints Filter (OMSCentral)"
   ]
  },
  {
   "cell_type": "code",
   "execution_count": 1,
   "metadata": {},
   "outputs": [],
   "source": [
    "%matplotlib inline\n",
    "\n",
    "import pandas as pd\n",
    "import numpy as np\n",
    "import matplotlib\n",
    "import matplotlib.pyplot as plt"
   ]
  },
  {
   "cell_type": "code",
   "execution_count": 2,
   "metadata": {},
   "outputs": [],
   "source": [
    "omscentral_reviews_DF = pd.read_csv('../../data/processed/course_reviews_omscentral.csv')"
   ]
  },
  {
   "cell_type": "markdown",
   "metadata": {},
   "source": [
    "### 1. Summary Statistics & Initial Impressions\n",
    "\n",
    "#### 1.1 Size"
   ]
  },
  {
   "cell_type": "code",
   "execution_count": 3,
   "metadata": {},
   "outputs": [
    {
     "data": {
      "text/plain": [
       "(1373, 21)"
      ]
     },
     "execution_count": 3,
     "metadata": {},
     "output_type": "execute_result"
    }
   ],
   "source": [
    "omscentral_reviews_DF.shape"
   ]
  },
  {
   "cell_type": "markdown",
   "metadata": {},
   "source": [
    "#### 1.2 Visual Inspection"
   ]
  },
  {
   "cell_type": "code",
   "execution_count": 18,
   "metadata": {},
   "outputs": [
    {
     "data": {
      "text/plain": [
       "array(['Unnamed: 0', 'author', 'course', 'created', 'difficulty',\n",
       "       'extraCredit', 'firstCourse', 'frontLoad', 'groupProjects', 'id',\n",
       "       'moneySpent', 'previousClasses', 'proctortrack', 'program',\n",
       "       'projects', 'rating', 'semester', 'tests', 'text', 'updated',\n",
       "       'workload'], dtype=object)"
      ]
     },
     "execution_count": 18,
     "metadata": {},
     "output_type": "execute_result"
    }
   ],
   "source": [
    "omscentral_reviews_DF.columns.values"
   ]
  },
  {
   "cell_type": "code",
   "execution_count": 5,
   "metadata": {},
   "outputs": [
    {
     "data": {
      "text/html": [
       "<div>\n",
       "<style scoped>\n",
       "    .dataframe tbody tr th:only-of-type {\n",
       "        vertical-align: middle;\n",
       "    }\n",
       "\n",
       "    .dataframe tbody tr th {\n",
       "        vertical-align: top;\n",
       "    }\n",
       "\n",
       "    .dataframe thead th {\n",
       "        text-align: right;\n",
       "    }\n",
       "</style>\n",
       "<table border=\"1\" class=\"dataframe\">\n",
       "  <thead>\n",
       "    <tr style=\"text-align: right;\">\n",
       "      <th></th>\n",
       "      <th>Unnamed: 0</th>\n",
       "      <th>author</th>\n",
       "      <th>course</th>\n",
       "      <th>created</th>\n",
       "      <th>difficulty</th>\n",
       "      <th>extraCredit</th>\n",
       "      <th>firstCourse</th>\n",
       "      <th>frontLoad</th>\n",
       "      <th>groupProjects</th>\n",
       "      <th>id</th>\n",
       "      <th>...</th>\n",
       "      <th>previousClasses</th>\n",
       "      <th>proctortrack</th>\n",
       "      <th>program</th>\n",
       "      <th>projects</th>\n",
       "      <th>rating</th>\n",
       "      <th>semester</th>\n",
       "      <th>tests</th>\n",
       "      <th>text</th>\n",
       "      <th>updated</th>\n",
       "      <th>workload</th>\n",
       "    </tr>\n",
       "  </thead>\n",
       "  <tbody>\n",
       "    <tr>\n",
       "      <th>0</th>\n",
       "      <td>0</td>\n",
       "      <td>google:115398662116989618541</td>\n",
       "      <td>CS-6300</td>\n",
       "      <td>1446786964000</td>\n",
       "      <td>2</td>\n",
       "      <td>NaN</td>\n",
       "      <td>NaN</td>\n",
       "      <td>NaN</td>\n",
       "      <td>NaN</td>\n",
       "      <td>-K2QDGcJfyyg5eiByfMR</td>\n",
       "      <td>...</td>\n",
       "      <td>NaN</td>\n",
       "      <td>NaN</td>\n",
       "      <td>NaN</td>\n",
       "      <td>NaN</td>\n",
       "      <td>5</td>\n",
       "      <td>2015-1</td>\n",
       "      <td>NaN</td>\n",
       "      <td>This was one of the first courses I took, and ...</td>\n",
       "      <td>1.459894e+12</td>\n",
       "      <td>5.0</td>\n",
       "    </tr>\n",
       "    <tr>\n",
       "      <th>1</th>\n",
       "      <td>1</td>\n",
       "      <td>google:115398662116989618541</td>\n",
       "      <td>CS-6250</td>\n",
       "      <td>1447605174000</td>\n",
       "      <td>2</td>\n",
       "      <td>NaN</td>\n",
       "      <td>NaN</td>\n",
       "      <td>NaN</td>\n",
       "      <td>NaN</td>\n",
       "      <td>-K3AzV12uFLeqEV_MK03</td>\n",
       "      <td>...</td>\n",
       "      <td>NaN</td>\n",
       "      <td>NaN</td>\n",
       "      <td>NaN</td>\n",
       "      <td>NaN</td>\n",
       "      <td>4</td>\n",
       "      <td>2015-2</td>\n",
       "      <td>NaN</td>\n",
       "      <td>Interesting material. No exams. Just open-book...</td>\n",
       "      <td>1.476502e+12</td>\n",
       "      <td>3.0</td>\n",
       "    </tr>\n",
       "    <tr>\n",
       "      <th>2</th>\n",
       "      <td>2</td>\n",
       "      <td>google:115398662116989618541</td>\n",
       "      <td>CS-6505</td>\n",
       "      <td>1447605816000</td>\n",
       "      <td>5</td>\n",
       "      <td>NaN</td>\n",
       "      <td>NaN</td>\n",
       "      <td>NaN</td>\n",
       "      <td>NaN</td>\n",
       "      <td>-K3B0wpgLgZ1-X7ATVuC</td>\n",
       "      <td>...</td>\n",
       "      <td>NaN</td>\n",
       "      <td>NaN</td>\n",
       "      <td>NaN</td>\n",
       "      <td>NaN</td>\n",
       "      <td>1</td>\n",
       "      <td>2015-1</td>\n",
       "      <td>NaN</td>\n",
       "      <td>If you do not have a discrete mathematics back...</td>\n",
       "      <td>1.487453e+12</td>\n",
       "      <td>20.0</td>\n",
       "    </tr>\n",
       "    <tr>\n",
       "      <th>3</th>\n",
       "      <td>3</td>\n",
       "      <td>google:101531499641196700998</td>\n",
       "      <td>CSE-6220</td>\n",
       "      <td>1447867339000</td>\n",
       "      <td>4</td>\n",
       "      <td>NaN</td>\n",
       "      <td>NaN</td>\n",
       "      <td>NaN</td>\n",
       "      <td>NaN</td>\n",
       "      <td>-K3QbY3WczPdeGng4Ubz</td>\n",
       "      <td>...</td>\n",
       "      <td>NaN</td>\n",
       "      <td>NaN</td>\n",
       "      <td>NaN</td>\n",
       "      <td>NaN</td>\n",
       "      <td>5</td>\n",
       "      <td>2015-3</td>\n",
       "      <td>NaN</td>\n",
       "      <td>Interesting lectures, great instructor. Challe...</td>\n",
       "      <td>1.466218e+12</td>\n",
       "      <td>18.0</td>\n",
       "    </tr>\n",
       "    <tr>\n",
       "      <th>4</th>\n",
       "      <td>4</td>\n",
       "      <td>7a83c83e-b098-4169-9aea-d20c0b151c37</td>\n",
       "      <td>CS-6035</td>\n",
       "      <td>1449296587000</td>\n",
       "      <td>2</td>\n",
       "      <td>NaN</td>\n",
       "      <td>NaN</td>\n",
       "      <td>NaN</td>\n",
       "      <td>NaN</td>\n",
       "      <td>-K4knimBGqR0wAMp0ZwA</td>\n",
       "      <td>...</td>\n",
       "      <td>NaN</td>\n",
       "      <td>NaN</td>\n",
       "      <td>NaN</td>\n",
       "      <td>NaN</td>\n",
       "      <td>4</td>\n",
       "      <td>2015-3</td>\n",
       "      <td>NaN</td>\n",
       "      <td>This has been an interesting course because I'...</td>\n",
       "      <td>1.471233e+12</td>\n",
       "      <td>3.0</td>\n",
       "    </tr>\n",
       "  </tbody>\n",
       "</table>\n",
       "<p>5 rows × 21 columns</p>\n",
       "</div>"
      ],
      "text/plain": [
       "   Unnamed: 0                                author    course        created  \\\n",
       "0           0          google:115398662116989618541   CS-6300  1446786964000   \n",
       "1           1          google:115398662116989618541   CS-6250  1447605174000   \n",
       "2           2          google:115398662116989618541   CS-6505  1447605816000   \n",
       "3           3          google:101531499641196700998  CSE-6220  1447867339000   \n",
       "4           4  7a83c83e-b098-4169-9aea-d20c0b151c37   CS-6035  1449296587000   \n",
       "\n",
       "   difficulty extraCredit firstCourse frontLoad  groupProjects  \\\n",
       "0           2         NaN         NaN       NaN            NaN   \n",
       "1           2         NaN         NaN       NaN            NaN   \n",
       "2           5         NaN         NaN       NaN            NaN   \n",
       "3           4         NaN         NaN       NaN            NaN   \n",
       "4           2         NaN         NaN       NaN            NaN   \n",
       "\n",
       "                     id  ...  previousClasses  proctortrack  program  \\\n",
       "0  -K2QDGcJfyyg5eiByfMR  ...              NaN           NaN      NaN   \n",
       "1  -K3AzV12uFLeqEV_MK03  ...              NaN           NaN      NaN   \n",
       "2  -K3B0wpgLgZ1-X7ATVuC  ...              NaN           NaN      NaN   \n",
       "3  -K3QbY3WczPdeGng4Ubz  ...              NaN           NaN      NaN   \n",
       "4  -K4knimBGqR0wAMp0ZwA  ...              NaN           NaN      NaN   \n",
       "\n",
       "   projects  rating  semester tests  \\\n",
       "0       NaN       5    2015-1   NaN   \n",
       "1       NaN       4    2015-2   NaN   \n",
       "2       NaN       1    2015-1   NaN   \n",
       "3       NaN       5    2015-3   NaN   \n",
       "4       NaN       4    2015-3   NaN   \n",
       "\n",
       "                                                text       updated  workload  \n",
       "0  This was one of the first courses I took, and ...  1.459894e+12       5.0  \n",
       "1  Interesting material. No exams. Just open-book...  1.476502e+12       3.0  \n",
       "2  If you do not have a discrete mathematics back...  1.487453e+12      20.0  \n",
       "3  Interesting lectures, great instructor. Challe...  1.466218e+12      18.0  \n",
       "4  This has been an interesting course because I'...  1.471233e+12       3.0  \n",
       "\n",
       "[5 rows x 21 columns]"
      ]
     },
     "execution_count": 5,
     "metadata": {},
     "output_type": "execute_result"
    }
   ],
   "source": [
    "omscentral_reviews_DF.head(5)"
   ]
  },
  {
   "cell_type": "markdown",
   "metadata": {},
   "source": [
    "#### 1.2.1 Ratings Distribution"
   ]
  },
  {
   "cell_type": "code",
   "execution_count": 14,
   "metadata": {},
   "outputs": [
    {
     "data": {
      "image/png": "[encoded data removed]",
      "text/plain": [
       "<Figure size 1080x576 with 1 Axes>"
      ]
     },
     "metadata": {
      "needs_background": "light"
     },
     "output_type": "display_data"
    }
   ],
   "source": [
    "fig, ax = plt.subplots(1, 1, figsize=(15, 8))\n",
    "\n",
    "ax = omscentral_reviews_DF.workload.hist();\n",
    "plt.title('OMSCS Course Avg. Workload Per Week');"
   ]
  },
  {
   "cell_type": "code",
   "execution_count": 21,
   "metadata": {},
   "outputs": [
    {
     "data": {
      "image/png": "[encoded data removed]",
      "text/plain": [
       "<Figure size 1080x576 with 1 Axes>"
      ]
     },
     "metadata": {
      "needs_background": "light"
     },
     "output_type": "display_data"
    }
   ],
   "source": [
    "fig, ax = plt.subplots(1, 1, figsize=(15, 8))\n",
    "\n",
    "ax = omscentral_reviews_DF.rating.hist(bins=10);\n",
    "plt.title('OMSCS Course - Quality Rating');"
   ]
  },
  {
   "cell_type": "code",
   "execution_count": 22,
   "metadata": {},
   "outputs": [
    {
     "data": {
      "image/png": "[encoded data removed]",
      "text/plain": [
       "<Figure size 1080x576 with 1 Axes>"
      ]
     },
     "metadata": {
      "needs_background": "light"
     },
     "output_type": "display_data"
    }
   ],
   "source": [
    "fig, ax = plt.subplots(1, 1, figsize=(15, 8))\n",
    "\n",
    "ax = omscentral_reviews_DF.difficulty.hist();\n",
    "plt.title('OMSCS Course - Difficulty Rating');"
   ]
  },
  {
   "cell_type": "markdown",
   "metadata": {},
   "source": [
    "#### 1.2.2 Text Fields"
   ]
  },
  {
   "cell_type": "code",
   "execution_count": 23,
   "metadata": {},
   "outputs": [
    {
     "data": {
      "text/plain": [
       "'This was one of the first courses I took, and I am glad that was the case. It was a comfortable way to get started. I also enjoyed learning how to develop an Android app. '"
      ]
     },
     "execution_count": 23,
     "metadata": {},
     "output_type": "execute_result"
    }
   ],
   "source": [
    "omscentral_reviews_DF.text.values[0]"
   ]
  },
  {
   "cell_type": "markdown",
   "metadata": {},
   "source": [
    "It would be super interesting to build a sentiment classifier to pull out pros and cons for the class!"
   ]
  },
  {
   "cell_type": "markdown",
   "metadata": {},
   "source": [
    "## 3. Future Directions\n",
    "\n",
    "TODO - Algorithms\n",
    "- Possible extension to sentiment classifier for pros/cons"
   ]
  },
  {
   "cell_type": "code",
   "execution_count": null,
   "metadata": {},
   "outputs": [],
   "source": []
  }
 ],
 "metadata": {
  "kernelspec": {
   "display_name": "Python 3",
   "language": "python",
   "name": "python3"
  },
  "language_info": {
   "codemirror_mode": {
    "name": "ipython",
    "version": 3
   },
   "file_extension": ".py",
   "mimetype": "text/x-python",
   "name": "python",
   "nbconvert_exporter": "python",
   "pygments_lexer": "ipython3",
   "version": "3.7.0"
  }
 },
 "nbformat": 4,
 "nbformat_minor": 2
}
